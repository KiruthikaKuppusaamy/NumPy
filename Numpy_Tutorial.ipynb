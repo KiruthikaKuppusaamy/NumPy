{
  "nbformat": 4,
  "nbformat_minor": 0,
  "metadata": {
    "colab": {
      "provenance": [],
      "authorship_tag": "ABX9TyP6cTk65zZC3P0nOPfECHOw",
      "include_colab_link": true
    },
    "kernelspec": {
      "name": "python3",
      "display_name": "Python 3"
    },
    "language_info": {
      "name": "python"
    }
  },
  "cells": [
    {
      "cell_type": "markdown",
      "metadata": {
        "id": "view-in-github",
        "colab_type": "text"
      },
      "source": [
        "<a href=\"https://colab.research.google.com/github/KiruthikaKuppusaamy/NumPy/blob/main/Numpy_Tutorial.ipynb\" target=\"_parent\"><img src=\"https://colab.research.google.com/assets/colab-badge.svg\" alt=\"Open In Colab\"/></a>"
      ]
    },
    {
      "cell_type": "markdown",
      "source": [
        "# ***NumPy Tutorial***"
      ],
      "metadata": {
        "id": "mLOi20ogWp9C"
      }
    },
    {
      "cell_type": "markdown",
      "source": [
        "### NumPy, established in 2005 as a Python library, specializes in performing numerical computations and is primarily employed for array manipulation tasks."
      ],
      "metadata": {
        "id": "oVzBdGalXc4D"
      }
    },
    {
      "cell_type": "markdown",
      "source": [
        "# **Applications of NumPy**"
      ],
      "metadata": {
        "id": "JIjNdc88XlnY"
      }
    },
    {
      "cell_type": "markdown",
      "source": [
        "Machine Learning\n",
        "\n",
        "Data Science\n",
        "\n",
        "Image and Signal Processing\n",
        "\n",
        "Scientific Computing\n",
        "\n",
        "Quantum Computing"
      ],
      "metadata": {
        "id": "01nAHHDvXzr6"
      }
    },
    {
      "cell_type": "markdown",
      "source": [
        "# **Advantages of Numpy**"
      ],
      "metadata": {
        "id": "38VXZFFVX6xa"
      }
    },
    {
      "cell_type": "markdown",
      "source": [
        "In Python, while lists are commonly used for handling arrays, they may not be efficiently optimized for large-scale array operations. NumPy arrays, on the other hand, are specifically designed for complex mathematical and statistical computations.\n",
        "\n",
        "NumPy is extensively integrated with other Python libraries such as Pandas, Scipy, scikit-learn, and others."
      ],
      "metadata": {
        "id": "c6EL1S6cYnRT"
      }
    },
    {
      "cell_type": "markdown",
      "source": [
        "# **Import NumPy in Python**"
      ],
      "metadata": {
        "id": "VFkdJu3rY4kx"
      }
    },
    {
      "cell_type": "code",
      "execution_count": null,
      "metadata": {
        "id": "Km44pz0HWncO"
      },
      "outputs": [],
      "source": [
        "import numpy"
      ]
    },
    {
      "cell_type": "code",
      "source": [
        "import numpy as np"
      ],
      "metadata": {
        "id": "0pnV80cYIhd9"
      },
      "execution_count": 70,
      "outputs": []
    },
    {
      "cell_type": "markdown",
      "source": [
        "# **NumPy Array Creation**"
      ],
      "metadata": {
        "id": "8-_invoCZUvu"
      }
    },
    {
      "cell_type": "markdown",
      "source": [
        "An array enables the storage of multiple values within a single data structure.\n",
        "\n",
        "whereas NumPy array shares similarities with a list but offers advantages like enhanced speed and memory efficiency.\n",
        "\n",
        "array object in NumPy is called ndarray."
      ],
      "metadata": {
        "id": "Y6grWDa6ZWj2"
      }
    },
    {
      "cell_type": "markdown",
      "source": [
        "## Method 1 : Creating Numpy Array using **List** or **Tuple** directly"
      ],
      "metadata": {
        "id": "7dVwjzCyJCJ_"
      }
    },
    {
      "cell_type": "code",
      "source": [
        "import numpy\n",
        "ksr = numpy.array([1,2,3,4,5])\n",
        "print(ksr)"
      ],
      "metadata": {
        "colab": {
          "base_uri": "https://localhost:8080/"
        },
        "id": "4510TpYsIomw",
        "outputId": "cb9aa25e-94f4-4c7a-fbdf-57541a941843"
      },
      "execution_count": null,
      "outputs": [
        {
          "output_type": "stream",
          "name": "stdout",
          "text": [
            "[1 2 3 4 5]\n"
          ]
        }
      ]
    },
    {
      "cell_type": "markdown",
      "source": [
        "## Method 2 : Creating Numpy Array using **List** through variable"
      ],
      "metadata": {
        "id": "QfNRfqrlZ4_q"
      }
    },
    {
      "cell_type": "code",
      "source": [
        "# import the library\n",
        "import numpy as np\n",
        "\n",
        "# create list\n",
        "ksrct = [10,20,30,40,50]\n",
        "\n",
        "# create numpy array using list\n",
        "nparr = np.array(ksrct)\n",
        "\n",
        "# alternate is, v can print directly\n",
        "np.array"
      ],
      "metadata": {
        "id": "SU-frSxwZ0Vb",
        "colab": {
          "base_uri": "https://localhost:8080/"
        },
        "outputId": "3c9295fa-690f-45b7-9d36-9cad1337ec9f"
      },
      "execution_count": null,
      "outputs": [
        {
          "output_type": "execute_result",
          "data": {
            "text/plain": [
              "<function numpy.array>"
            ]
          },
          "metadata": {},
          "execution_count": 3
        }
      ]
    },
    {
      "cell_type": "code",
      "source": [
        "# print the numpy array\n",
        "print(nparr)"
      ],
      "metadata": {
        "colab": {
          "base_uri": "https://localhost:8080/"
        },
        "id": "1168Y7YIbP4F",
        "outputId": "cd4136d5-752d-40f8-f41d-38fef19a4e82"
      },
      "execution_count": null,
      "outputs": [
        {
          "output_type": "stream",
          "name": "stdout",
          "text": [
            "[10 20 30 40 50]\n"
          ]
        }
      ]
    },
    {
      "cell_type": "markdown",
      "source": [
        "## Method 3 : Create an Array using np.zeros()\n",
        "creating an array with elements all initialized to 0"
      ],
      "metadata": {
        "id": "Vn3ttsU6JwyF"
      }
    },
    {
      "cell_type": "code",
      "source": [
        "zeroarr = np.zeros(5)\n",
        "zeroarr"
      ],
      "metadata": {
        "colab": {
          "base_uri": "https://localhost:8080/"
        },
        "id": "dwLEMgC5J1lc",
        "outputId": "d374ddf9-5d12-423a-97c0-47467348d51f"
      },
      "execution_count": null,
      "outputs": [
        {
          "output_type": "execute_result",
          "data": {
            "text/plain": [
              "array([0., 0., 0., 0., 0.])"
            ]
          },
          "metadata": {},
          "execution_count": 6
        }
      ]
    },
    {
      "cell_type": "markdown",
      "source": [
        "# Method 4 : Create an Array using np.arange()\n",
        "returns an array with values within a specified interval"
      ],
      "metadata": {
        "id": "s38W5WkqKcpH"
      }
    },
    {
      "cell_type": "code",
      "source": [
        "r1arr = np.arange(5)\n",
        "print(r1arr)"
      ],
      "metadata": {
        "colab": {
          "base_uri": "https://localhost:8080/"
        },
        "id": "htHvrpfUJ-ru",
        "outputId": "001f8367-da78-4964-a380-e50fcac0b30f"
      },
      "execution_count": null,
      "outputs": [
        {
          "output_type": "stream",
          "name": "stdout",
          "text": [
            "[0 1 2 3 4]\n"
          ]
        }
      ]
    },
    {
      "cell_type": "code",
      "source": [
        "r2arr = np.arange(1,10)\n",
        "print(r2arr)"
      ],
      "metadata": {
        "colab": {
          "base_uri": "https://localhost:8080/"
        },
        "id": "irrkhY6iKtcv",
        "outputId": "732fd1ac-2ca0-4951-8efd-70bab22f3f58"
      },
      "execution_count": null,
      "outputs": [
        {
          "output_type": "stream",
          "name": "stdout",
          "text": [
            "[1 2 3 4 5 6 7 8 9]\n"
          ]
        }
      ]
    },
    {
      "cell_type": "code",
      "source": [
        "r3arr = np.arange(1,10,2)\n",
        "print(r3arr)"
      ],
      "metadata": {
        "colab": {
          "base_uri": "https://localhost:8080/"
        },
        "id": "i3ahu3u9K7IB",
        "outputId": "15ab8f5c-e1ec-4fa5-f135-ef9bf28b2134"
      },
      "execution_count": null,
      "outputs": [
        {
          "output_type": "stream",
          "name": "stdout",
          "text": [
            "[1 3 5 7 9]\n"
          ]
        }
      ]
    },
    {
      "cell_type": "code",
      "source": [
        "r4arr = np.arange(10,1,-1)\n",
        "print(r4arr)"
      ],
      "metadata": {
        "colab": {
          "base_uri": "https://localhost:8080/"
        },
        "id": "BxKAPYBmLB8o",
        "outputId": "b6c0e07c-8925-4679-b09a-74d20211bb53"
      },
      "execution_count": null,
      "outputs": [
        {
          "output_type": "stream",
          "name": "stdout",
          "text": [
            "[10  9  8  7  6  5  4  3  2]\n"
          ]
        }
      ]
    },
    {
      "cell_type": "markdown",
      "source": [
        "# Create an Array using np.random.rand()\n",
        "create an array of random numbers\n",
        "\n",
        "generates a different output each time we run it"
      ],
      "metadata": {
        "id": "D1o2bX7oLRJu"
      }
    },
    {
      "cell_type": "code",
      "source": [
        "rnarr = np.random.rand(10)\n",
        "print(rnarr)"
      ],
      "metadata": {
        "colab": {
          "base_uri": "https://localhost:8080/"
        },
        "id": "P89siekSLWq2",
        "outputId": "7cae60c3-e685-4f79-f324-c1d82767e4a8"
      },
      "execution_count": null,
      "outputs": [
        {
          "output_type": "stream",
          "name": "stdout",
          "text": [
            "[0.42529435 0.44967376 0.60985522 0.28589096 0.71627043 0.05011958\n",
            " 0.54194086 0.03287408 0.33564862 0.79480123]\n"
          ]
        }
      ]
    },
    {
      "cell_type": "markdown",
      "source": [
        "# Method 5: Create an Array using empty()\n",
        "create an empty NumPy array\n",
        "\n",
        "output of the code, is actually not empty, it has some values in it.\n",
        "\n",
        "NumPy will try to add some value to it. The values stored in the array are arbitrary and have no significance"
      ],
      "metadata": {
        "id": "rKOjUMQqL8Tu"
      }
    },
    {
      "cell_type": "code",
      "source": [
        "earr = np.empty(4)\n",
        "print(earr)"
      ],
      "metadata": {
        "colab": {
          "base_uri": "https://localhost:8080/"
        },
        "id": "0Xr0Of6KLjBu",
        "outputId": "8317a046-7f69-4543-8802-08fefcfe94ae"
      },
      "execution_count": null,
      "outputs": [
        {
          "output_type": "stream",
          "name": "stdout",
          "text": [
            "[4.66910391e-310 0.00000000e+000 5.63234836e-322 5.63234836e-322]\n"
          ]
        }
      ]
    },
    {
      "cell_type": "markdown",
      "source": [
        "--------------------------------------------------------------------------------------------------------------------"
      ],
      "metadata": {
        "id": "YXjQeusQQ7TG"
      }
    },
    {
      "cell_type": "markdown",
      "source": [
        "# NumPy N-D Array Creation\n",
        "NumPy extends beyond 1-D arrays, supporting arrays of multiple dimensions, commonly referred to as N-dimensional arrays or ndarrays.\n",
        "n represents number of dimensions\n",
        "\n",
        "2D array represents a table with rows and columns\n",
        "\n",
        "3D array represents a cube with width, height, and depth"
      ],
      "metadata": {
        "id": "SWlIyua5PCA9"
      }
    },
    {
      "cell_type": "markdown",
      "source": [
        "## Create a 2-D NumPy Array"
      ],
      "metadata": {
        "id": "YyPVYJiISQK4"
      }
    },
    {
      "cell_type": "code",
      "source": [
        "twoarr = np.array([[1,2,3],[4,5,6]])\n",
        "print(twoarr)\n"
      ],
      "metadata": {
        "colab": {
          "base_uri": "https://localhost:8080/"
        },
        "id": "dN_fyp38SSup",
        "outputId": "25715cc6-4138-4066-e0da-5902cace974f"
      },
      "execution_count": null,
      "outputs": [
        {
          "output_type": "stream",
          "name": "stdout",
          "text": [
            "[[1 2 3]\n",
            " [4 5 6]]\n"
          ]
        }
      ]
    },
    {
      "cell_type": "code",
      "source": [
        "lst1 = [10,20,30]\n",
        "lst2 = [40,50,60]\n",
        "toarr = np.array([lst1,lst2])\n",
        "print(toarr)"
      ],
      "metadata": {
        "colab": {
          "base_uri": "https://localhost:8080/"
        },
        "id": "UnHcjwuIShqU",
        "outputId": "9caf99a4-9f23-4302-e205-57c0623edc38"
      },
      "execution_count": null,
      "outputs": [
        {
          "output_type": "stream",
          "name": "stdout",
          "text": [
            "[[10 20 30]\n",
            " [40 50 60]]\n"
          ]
        }
      ]
    },
    {
      "cell_type": "markdown",
      "source": [
        "## Create a 3-D NumPy Array\n",
        "1. fix slice or depth\n",
        "\n",
        "```\n",
        "array([])\n",
        "array([\n",
        "       [],\n",
        "       [],\n",
        "       []\n",
        "      ])\n",
        "```\n",
        "  \n",
        "2. fix row or height\n",
        "  \n",
        "```\n",
        " array([\n",
        "          [ [],[],[] ],\n",
        "\n",
        "          [ [],[],[] ],\n",
        "\n",
        "          [ [],[],[] ]\n",
        "\n",
        "       ])\n",
        "```\n",
        "\n",
        "\n",
        "3. enter column or width\n",
        "\n",
        "```\n",
        "array([\n",
        "          [[1,2],[3,4],[5,6]],\n",
        "\n",
        "          [[0,0],[1,1],[2,2]],\n",
        "\n",
        "          [[7,8],[7,9],[8,9]]\n",
        "\n",
        "     ])\n",
        "```\n",
        "\n",
        "\n"
      ],
      "metadata": {
        "id": "ZnWPYKJ0TfuF"
      }
    },
    {
      "cell_type": "markdown",
      "source": [
        "### width = 3, height = 3 , depth = 3"
      ],
      "metadata": {
        "id": "wE4S0PRNYDR1"
      }
    },
    {
      "cell_type": "code",
      "source": [
        "th1arr = np.array([[[111,112,113],[121,122,123],[131,132,133]],[[211,212,213],[221,222,223],[231,232,233]],[[311,312,313],[321,322,323],[331,332,333]]])\n",
        "print(th1arr)"
      ],
      "metadata": {
        "colab": {
          "base_uri": "https://localhost:8080/"
        },
        "id": "nF833sczTTw1",
        "outputId": "2855103f-9bc9-418b-8694-24503d3855ea"
      },
      "execution_count": null,
      "outputs": [
        {
          "output_type": "stream",
          "name": "stdout",
          "text": [
            "[[[111 112 113]\n",
            "  [121 122 123]\n",
            "  [131 132 133]]\n",
            "\n",
            " [[211 212 213]\n",
            "  [221 222 223]\n",
            "  [231 232 233]]\n",
            "\n",
            " [[311 312 313]\n",
            "  [321 322 323]\n",
            "  [331 332 333]]]\n"
          ]
        }
      ]
    },
    {
      "cell_type": "markdown",
      "source": [
        "### width = 2, height = 3 , depth = 4"
      ],
      "metadata": {
        "id": "JczeXbe3YOiq"
      }
    },
    {
      "cell_type": "code",
      "source": [
        "th2arr = np.array([[[11,12,13,14],[21,22,23,24],[31,32,33,34]],[[41,42,43,44],[51,52,53,54],[61,62,63,64]]])\n",
        "print(th2arr)"
      ],
      "metadata": {
        "colab": {
          "base_uri": "https://localhost:8080/"
        },
        "id": "jlj8ybKxYSID",
        "outputId": "54cb6203-f228-4e99-c622-252acbf27eee"
      },
      "execution_count": null,
      "outputs": [
        {
          "output_type": "stream",
          "name": "stdout",
          "text": [
            "[[[11 12 13 14]\n",
            "  [21 22 23 24]\n",
            "  [31 32 33 34]]\n",
            "\n",
            " [[41 42 43 44]\n",
            "  [51 52 53 54]\n",
            "  [61 62 63 64]]]\n"
          ]
        }
      ]
    },
    {
      "cell_type": "markdown",
      "source": [
        "### Create 2D and 3D array with zeros(), random.rand()"
      ],
      "metadata": {
        "id": "9tW9U5Hgd81m"
      }
    },
    {
      "cell_type": "code",
      "source": [
        "# zeros - 2D\n",
        "z2 = np.zeros((3,2))\n",
        "print(z2)"
      ],
      "metadata": {
        "colab": {
          "base_uri": "https://localhost:8080/"
        },
        "id": "ZPgQRGQkeHU8",
        "outputId": "ab407ac2-4bcb-47f9-81d9-1b9541dacb9b"
      },
      "execution_count": null,
      "outputs": [
        {
          "output_type": "stream",
          "name": "stdout",
          "text": [
            "[[0. 0.]\n",
            " [0. 0.]\n",
            " [0. 0.]]\n"
          ]
        }
      ]
    },
    {
      "cell_type": "code",
      "source": [
        "# zeros - 3D\n",
        "z3 = np.zeros((2,3,4))\n",
        "print(z3)"
      ],
      "metadata": {
        "colab": {
          "base_uri": "https://localhost:8080/"
        },
        "id": "2XBNAXWVeTWN",
        "outputId": "aa3f2107-9084-4df4-ccb5-7cbf57aaeb32"
      },
      "execution_count": null,
      "outputs": [
        {
          "output_type": "stream",
          "name": "stdout",
          "text": [
            "[[[0. 0. 0. 0.]\n",
            "  [0. 0. 0. 0.]\n",
            "  [0. 0. 0. 0.]]\n",
            "\n",
            " [[0. 0. 0. 0.]\n",
            "  [0. 0. 0. 0.]\n",
            "  [0. 0. 0. 0.]]]\n"
          ]
        }
      ]
    },
    {
      "cell_type": "code",
      "source": [
        "# rand - 1D\n",
        "r1 = np.random.rand(3)\n",
        "print(\"1D array\")\n",
        "print(r1)\n",
        "print(\"______________\")\n",
        "\n",
        "# rand - 1D\n",
        "r2 = np.random.rand(2,3)\n",
        "print(\"2D array\")\n",
        "print(r2)\n",
        "print(\"______________\")\n",
        "\n",
        "# rand - 3D\n",
        "r3 = np.random.rand(2,3,4)\n",
        "print(\"3D array\")\n",
        "print(r3)"
      ],
      "metadata": {
        "colab": {
          "base_uri": "https://localhost:8080/"
        },
        "id": "l2qnenHhh_Qt",
        "outputId": "86a4de4d-0d35-40d7-a4cb-7993e062d206"
      },
      "execution_count": null,
      "outputs": [
        {
          "output_type": "stream",
          "name": "stdout",
          "text": [
            "1D array\n",
            "[0.63189772 0.27443576 0.89571231]\n",
            "______________\n",
            "2D array\n",
            "[[0.80289119 0.03148871 0.67142762]\n",
            " [0.54080211 0.05199389 0.10942536]]\n",
            "______________\n",
            "3D array\n",
            "[[[0.78555022 0.7224587  0.62612001 0.3677709 ]\n",
            "  [0.00458192 0.61748249 0.78113768 0.87068929]\n",
            "  [0.86783317 0.35482804 0.02201682 0.71148422]]\n",
            "\n",
            " [[0.01539332 0.47325016 0.43876735 0.59968714]\n",
            "  [0.13593693 0.68621829 0.55561358 0.60560297]\n",
            "  [0.67275179 0.17311727 0.8618296  0.74484504]]]\n"
          ]
        }
      ]
    },
    {
      "cell_type": "markdown",
      "source": [
        "### ones(), full()\n",
        "create N-D arrays filled with all zeros\n",
        "\n",
        "create a multidimensional array with a specified value."
      ],
      "metadata": {
        "id": "E3x04XKagB1E"
      }
    },
    {
      "cell_type": "code",
      "source": [
        "# ones - 1D\n",
        "o1 = np.ones((2))\n",
        "print(o1)"
      ],
      "metadata": {
        "colab": {
          "base_uri": "https://localhost:8080/"
        },
        "id": "aHAULKoFe2SE",
        "outputId": "50a898a2-d72e-4fcd-bf0c-cb980d6e9e28"
      },
      "execution_count": null,
      "outputs": [
        {
          "output_type": "stream",
          "name": "stdout",
          "text": [
            "[1. 1.]\n"
          ]
        }
      ]
    },
    {
      "cell_type": "code",
      "source": [
        "# ones - 2D\n",
        "o2 = np.ones((2,3))\n",
        "print(o2)"
      ],
      "metadata": {
        "colab": {
          "base_uri": "https://localhost:8080/"
        },
        "id": "RNsYDOYUgTqe",
        "outputId": "6ba8e7e0-afa8-415d-ea20-5dc747300f23"
      },
      "execution_count": null,
      "outputs": [
        {
          "output_type": "stream",
          "name": "stdout",
          "text": [
            "[[1. 1. 1.]\n",
            " [1. 1. 1.]]\n"
          ]
        }
      ]
    },
    {
      "cell_type": "code",
      "source": [
        "# ones - 3D\n",
        "o3 = np.ones((2,3,4))\n",
        "print(o3)"
      ],
      "metadata": {
        "colab": {
          "base_uri": "https://localhost:8080/"
        },
        "id": "WZyQHaL6gedq",
        "outputId": "2ef99596-2b1d-43f0-8b07-bbe3dbb1d0b4"
      },
      "execution_count": null,
      "outputs": [
        {
          "output_type": "stream",
          "name": "stdout",
          "text": [
            "[[[1. 1. 1. 1.]\n",
            "  [1. 1. 1. 1.]\n",
            "  [1. 1. 1. 1.]]\n",
            "\n",
            " [[1. 1. 1. 1.]\n",
            "  [1. 1. 1. 1.]\n",
            "  [1. 1. 1. 1.]]]\n"
          ]
        }
      ]
    },
    {
      "cell_type": "code",
      "source": [
        "# full - 1D\n",
        "f1 = np.full((3),6)\n",
        "print(f1)"
      ],
      "metadata": {
        "colab": {
          "base_uri": "https://localhost:8080/"
        },
        "id": "nJcSHueagkyn",
        "outputId": "e4f2853e-6887-4d1e-c369-c6174a540531"
      },
      "execution_count": null,
      "outputs": [
        {
          "output_type": "stream",
          "name": "stdout",
          "text": [
            "[6 6 6]\n"
          ]
        }
      ]
    },
    {
      "cell_type": "code",
      "source": [
        "# full - 2D\n",
        "f2 = np.full((3,4),6)\n",
        "print(f2)"
      ],
      "metadata": {
        "colab": {
          "base_uri": "https://localhost:8080/"
        },
        "id": "7x_YDIM2hCrB",
        "outputId": "bb419504-c23b-4620-a5c9-73592a46a2b7"
      },
      "execution_count": null,
      "outputs": [
        {
          "output_type": "stream",
          "name": "stdout",
          "text": [
            "[[6 6 6 6]\n",
            " [6 6 6 6]\n",
            " [6 6 6 6]]\n"
          ]
        }
      ]
    },
    {
      "cell_type": "code",
      "source": [
        "# full - 3D\n",
        "f3 = np.full((2,3,4),6)\n",
        "print(f3)"
      ],
      "metadata": {
        "colab": {
          "base_uri": "https://localhost:8080/"
        },
        "id": "gyd-jXQohLZr",
        "outputId": "071ded43-2776-48d1-baeb-9a1b47b08ea4"
      },
      "execution_count": null,
      "outputs": [
        {
          "output_type": "stream",
          "name": "stdout",
          "text": [
            "[[[6 6 6 6]\n",
            "  [6 6 6 6]\n",
            "  [6 6 6 6]]\n",
            "\n",
            " [[6 6 6 6]\n",
            "  [6 6 6 6]\n",
            "  [6 6 6 6]]]\n"
          ]
        }
      ]
    },
    {
      "cell_type": "markdown",
      "source": [
        "# NumPy Data Types\n",
        "int8, int16, int32, int64 - signed integer types with different bit sizes\n",
        "\n",
        "uint8, uint16, uint32, uint64 - unsigned integer types with different bit sizes\n",
        "\n",
        "float32, float64 - floating-point types with different precision levels\n",
        "\n",
        "complex64, complex128 - complex number types with different precision levels\n",
        "\n",
        "### to check data type - dtype()\n"
      ],
      "metadata": {
        "id": "6IFPfWqljp15"
      }
    },
    {
      "cell_type": "code",
      "source": [
        "intarr = np.array([1,2,3,4,5])\n",
        "print(\"Data type of intarr is : \",intarr.dtype)\n",
        "\n",
        "floarr = np.array([-1,4.2,3,-4,-5])\n",
        "print(\"Data type of floarr is : \",floarr.dtype)\n",
        "\n",
        "comarr = np.array([1+2j,5+6j,7])\n",
        "print(\"Data type of comarr is : \",comarr.dtype)"
      ],
      "metadata": {
        "colab": {
          "base_uri": "https://localhost:8080/"
        },
        "id": "D0FijudjkS4k",
        "outputId": "ebdd1289-75cf-424c-afa7-b9db8431f4db"
      },
      "execution_count": null,
      "outputs": [
        {
          "output_type": "stream",
          "name": "stdout",
          "text": [
            "Data type of intarr is :  int64\n",
            "Data type of floarr is :  float64\n",
            "Data type of comarr is :  complex128\n"
          ]
        }
      ]
    },
    {
      "cell_type": "markdown",
      "source": [
        "### NumPy Type Conversion - astype()"
      ],
      "metadata": {
        "id": "GafXOf8amEtH"
      }
    },
    {
      "cell_type": "code",
      "source": [
        "iarr = np.array([2,4,6])\n",
        "farr = iarr.astype('float')\n",
        "\n",
        "print(\"Data type of \",iarr,\"   is\",iarr.dtype)\n",
        "print(\"Data type of \",farr,\"is\",farr.dtype)"
      ],
      "metadata": {
        "colab": {
          "base_uri": "https://localhost:8080/"
        },
        "id": "xTH9w28Lk9lv",
        "outputId": "2f5fe314-ea7c-4e79-bb96-df50c128e629"
      },
      "execution_count": null,
      "outputs": [
        {
          "output_type": "stream",
          "name": "stdout",
          "text": [
            "Data type of  [2 4 6]    is int64\n",
            "Data type of  [2. 4. 6.] is float64\n"
          ]
        }
      ]
    },
    {
      "cell_type": "markdown",
      "source": [
        "# NumPy Array Attributes\n",
        "accessed with . notation\n",
        "### ndim, size, dtype, shape, itemsize, data"
      ],
      "metadata": {
        "id": "QFmmTrREnzqB"
      }
    },
    {
      "cell_type": "code",
      "source": [
        "# ndim      - returns number of dimension of the array\n",
        "a1 = np.array([[2,3,4],[5,6,7]])\n",
        "print(\"Array is \\n\",a1)\n",
        "print(\"\\nDimension of array  is             : \",a1.ndim)\n",
        "\n",
        "# size\t    - returns number of elements in the array\n",
        "print(\"No of elements in array is         : \",a1.size)\n",
        "\n",
        "# dtype     - returns data type of the elements in the array\n",
        "print(\"Data type of array is              : \",a1.dtype)\n",
        "\n",
        "# shape\t    - returns the size of the array in each dimension\n",
        "print(\"Size of array in each dimension is : \",a1.shape)\n",
        "\n",
        "# itemsize\t- returns the size (in bytes) of each elements in the array\n",
        "print(\"Size (in bytes) of array is        : \",a1.itemsize)\n",
        "\n",
        "# data\t    - returns the buffer containing actual elements of the array in memory\n",
        "print(\"Memory location  of array is       : \",a1.data)"
      ],
      "metadata": {
        "colab": {
          "base_uri": "https://localhost:8080/"
        },
        "id": "FG7RAz6BmygF",
        "outputId": "1663d0fe-f062-4f43-ef3b-732c69ea9cc6"
      },
      "execution_count": null,
      "outputs": [
        {
          "output_type": "stream",
          "name": "stdout",
          "text": [
            "Array is \n",
            " [[2 3 4]\n",
            " [5 6 7]]\n",
            "\n",
            "Dimension of array  is             :  2\n",
            "No of elements in array is         :  6\n",
            "Data type of array is              :  int64\n",
            "Size of array in each dimension is :  (2, 3)\n",
            "Size (in bytes) of array is        :  8\n",
            "Memory location  of array is       :  <memory at 0x7938f3ebfb90>\n"
          ]
        }
      ]
    },
    {
      "cell_type": "code",
      "source": [
        "a3 = np.array((1,2,3))\n",
        "print(a3)"
      ],
      "metadata": {
        "colab": {
          "base_uri": "https://localhost:8080/"
        },
        "id": "I4q3qKbmxcFk",
        "outputId": "271e9d2b-556b-4fbf-9b22-46a8f3f99cb3"
      },
      "execution_count": null,
      "outputs": [
        {
          "output_type": "stream",
          "name": "stdout",
          "text": [
            "[1 2 3]\n"
          ]
        }
      ]
    },
    {
      "cell_type": "markdown",
      "source": [
        "# Numpy Array Indexing\n",
        "Each element in an array is identified by its corresponding array index.\n",
        "\n",
        "array[index]\n",
        "\n",
        "array[start:stop]\n",
        "\n",
        "array[start:stop:step]\n"
      ],
      "metadata": {
        "id": "R99z74L91eH1"
      }
    },
    {
      "cell_type": "markdown",
      "source": [
        "### Accessing Array elements using Index"
      ],
      "metadata": {
        "id": "J46QZHV-2mUP"
      }
    },
    {
      "cell_type": "code",
      "source": [
        "arr1 = np.array([2,4,6,8,10])\n",
        "print(arr1)"
      ],
      "metadata": {
        "colab": {
          "base_uri": "https://localhost:8080/"
        },
        "id": "tJmclEDgxxcd",
        "outputId": "a5840bbb-64f7-468a-ce99-3ebb9abc05a9"
      },
      "execution_count": null,
      "outputs": [
        {
          "output_type": "stream",
          "name": "stdout",
          "text": [
            "[ 2  4  6  8 10]\n"
          ]
        }
      ]
    },
    {
      "cell_type": "code",
      "source": [
        "# Displaying array elements in index 1 and 3\n",
        "print(\"Element in index 1 : \", arr1[1])\n",
        "print(\"Element in index 3 : \",arr1[3])"
      ],
      "metadata": {
        "colab": {
          "base_uri": "https://localhost:8080/"
        },
        "id": "rghc9fi01f_c",
        "outputId": "819d6b56-850e-473e-a586-f7e7461af8d8"
      },
      "execution_count": null,
      "outputs": [
        {
          "output_type": "stream",
          "name": "stdout",
          "text": [
            "Element in index 1 :  4\n",
            "Element in index 3 :  8\n"
          ]
        }
      ]
    },
    {
      "cell_type": "markdown",
      "source": [
        "### Accessing Array elements using Negative Index"
      ],
      "metadata": {
        "id": "mzPxpPia4-mz"
      }
    },
    {
      "cell_type": "code",
      "source": [
        "arr1 = np.array([2,4,6,8,10])\n",
        "print(\"Elements in the array  : \", arr1)\n",
        "\n",
        "print(\"Element in index -2 is : \",arr1[-2])"
      ],
      "metadata": {
        "colab": {
          "base_uri": "https://localhost:8080/"
        },
        "id": "G3-NFEg-5JlT",
        "outputId": "6abb0392-34de-4c3d-e923-c56577e57888"
      },
      "execution_count": null,
      "outputs": [
        {
          "output_type": "stream",
          "name": "stdout",
          "text": [
            "Elements in the array  :  [ 2  4  6  8 10]\n",
            "Element in index -2 is :  8\n"
          ]
        }
      ]
    },
    {
      "cell_type": "markdown",
      "source": [
        "### Modifying Array elements using Indexing and Negative Indexing"
      ],
      "metadata": {
        "id": "EiSnwYWE3oPO"
      }
    },
    {
      "cell_type": "code",
      "source": [
        "arr1 = np.array([2,4,6,8,10])\n",
        "print(\"Before Modification                             : \", arr1)\n",
        "\n",
        "arr1[2] = 0\n",
        "print(\"After Modification using indexing [2]           : \", arr1)\n",
        "\n",
        "arr1[-5] = 1\n",
        "print(\"After Modification using negative indexing [-5] : \", arr1)"
      ],
      "metadata": {
        "colab": {
          "base_uri": "https://localhost:8080/"
        },
        "id": "NwqL72bB3zry",
        "outputId": "375458dc-b8b5-40d2-a4f4-fc9059c127dc"
      },
      "execution_count": null,
      "outputs": [
        {
          "output_type": "stream",
          "name": "stdout",
          "text": [
            "Before Modification                             :  [ 2  4  6  8 10]\n",
            "After Modification using indexing [2]           :  [ 2  4  0  8 10]\n",
            "After Modification using negative indexing [-5] :  [ 1  4  0  8 10]\n"
          ]
        }
      ]
    },
    {
      "cell_type": "markdown",
      "source": [
        "### 2D Array Indexing\n",
        "specify the row index and column index of the element\n",
        "\n",
        "array[row_index , col_index]"
      ],
      "metadata": {
        "id": "FsQVOUk159QP"
      }
    },
    {
      "cell_type": "code",
      "source": [
        "arr2 = np.array([[0,2,4,6,8],[1,3,5,7,9]])\n",
        "print(arr2)\n",
        "\n",
        "print(\"\\nAccessing Elements using indexing\")\n",
        "print(\"Row 2, Column 3 is : \",arr2[1,2])\n",
        "\n",
        "print(\"\\nAccessing Elements using negative indexing\")\n",
        "print(\"Row 1, Column 4 is : \",arr2[-2,-4])\n"
      ],
      "metadata": {
        "colab": {
          "base_uri": "https://localhost:8080/"
        },
        "id": "9JLI4_CY4kGl",
        "outputId": "96545387-40f5-4b25-c531-b93c4bbf2979"
      },
      "execution_count": null,
      "outputs": [
        {
          "output_type": "stream",
          "name": "stdout",
          "text": [
            "[[0 2 4 6 8]\n",
            " [1 3 5 7 9]]\n",
            "\n",
            "Accessing Elements using indexing\n",
            "Row 2, Column 3 is :  5\n",
            "\n",
            "Accessing Elements using negative indexing\n",
            "Row 1, Column 4 is :  2\n"
          ]
        }
      ]
    },
    {
      "cell_type": "markdown",
      "source": [
        "### 3D Array Indexing\n",
        "array[slice , row, col]"
      ],
      "metadata": {
        "id": "PWSU1SHM8Sg5"
      }
    },
    {
      "cell_type": "code",
      "source": [
        "# create a 3D array with shape (2, 3, 4)\n",
        "a3 = np.array([[[1, 2, 3, 4],\n",
        "                   [5, 6, 7, 8],\n",
        "                   [9, 10, 11, 12]],\n",
        "\n",
        "                    [[13, 14, 15, 16],\n",
        "                    [17, 18, 19, 20],\n",
        "                    [21, 22, 23, 24]]])\n",
        "\n",
        "print(\"Elements in the 3D array\\n\",a3)\n",
        "\n",
        "\n",
        "# accessing and printing a specific element of the array\n",
        "print(\"\\nElement (1,2,1) in 3D array is :\",a3[1, 2, 1])"
      ],
      "metadata": {
        "colab": {
          "base_uri": "https://localhost:8080/"
        },
        "id": "uzPcWMsR8b8e",
        "outputId": "e89b6c58-7df1-49b1-b1e3-70ae5898cef1"
      },
      "execution_count": null,
      "outputs": [
        {
          "output_type": "stream",
          "name": "stdout",
          "text": [
            "Elements in the 3D array\n",
            " [[[ 1  2  3  4]\n",
            "  [ 5  6  7  8]\n",
            "  [ 9 10 11 12]]\n",
            "\n",
            " [[13 14 15 16]\n",
            "  [17 18 19 20]\n",
            "  [21 22 23 24]]]\n",
            "\n",
            "Element (1,2,1) in 3D array is : 22\n"
          ]
        }
      ]
    },
    {
      "cell_type": "code",
      "source": [
        "a4 = np.array([[[1, 2, 3, 4],\n",
        "                [5, 6, 7, 8],\n",
        "                [9, 10, 11, 12]],\n",
        "\n",
        "               [[13, 14, 15, 16],\n",
        "                [17, 18, 19, 20],\n",
        "                [21, 22, 23, 24]]])"
      ],
      "metadata": {
        "id": "qZgQc-bh0wRe"
      },
      "execution_count": null,
      "outputs": []
    },
    {
      "cell_type": "markdown",
      "source": [
        "# NumPy Array Slicing\n",
        "process of extracting a portion of an array\n",
        "\n",
        "\n"
      ],
      "metadata": {
        "id": "XHFQONia6Ml2"
      }
    },
    {
      "cell_type": "markdown",
      "source": [
        "## 1D array\n",
        "array[start:end:step]\n",
        "\n",
        "end and step are optional"
      ],
      "metadata": {
        "id": "z0wFHZU37NN_"
      }
    },
    {
      "cell_type": "code",
      "source": [
        "s1arr =  np.array([1,2,3,4,5,6,7,8,9])\n",
        "print(s1arr)"
      ],
      "metadata": {
        "colab": {
          "base_uri": "https://localhost:8080/"
        },
        "id": "BJZPYbkg6N5G",
        "outputId": "abd40113-747a-453c-924b-e5b6b3f40642"
      },
      "execution_count": null,
      "outputs": [
        {
          "output_type": "stream",
          "name": "stdout",
          "text": [
            "[1 2 3 4 5 6 7 8 9]\n"
          ]
        }
      ]
    },
    {
      "cell_type": "markdown",
      "source": [
        "### Different combinations of start, end , step and negative slicing"
      ],
      "metadata": {
        "id": "NPplc3D98MDn"
      }
    },
    {
      "cell_type": "code",
      "source": [
        "print(s1arr[1:5])"
      ],
      "metadata": {
        "colab": {
          "base_uri": "https://localhost:8080/"
        },
        "id": "XfCUjuGE7dwF",
        "outputId": "7e767146-fbd2-464f-8eff-5b9690cb6d46"
      },
      "execution_count": null,
      "outputs": [
        {
          "output_type": "stream",
          "name": "stdout",
          "text": [
            "[2 3 4 5]\n"
          ]
        }
      ]
    },
    {
      "cell_type": "code",
      "source": [
        "print(s1arr[0:5:2])"
      ],
      "metadata": {
        "colab": {
          "base_uri": "https://localhost:8080/"
        },
        "id": "rjnmkYX97lel",
        "outputId": "8439cee2-49dc-48c7-b590-fb91d2e13c57"
      },
      "execution_count": null,
      "outputs": [
        {
          "output_type": "stream",
          "name": "stdout",
          "text": [
            "[1 3 5]\n"
          ]
        }
      ]
    },
    {
      "cell_type": "code",
      "source": [
        "print(s1arr[:6:])"
      ],
      "metadata": {
        "colab": {
          "base_uri": "https://localhost:8080/"
        },
        "id": "RPstBgIc7wcE",
        "outputId": "e478e99f-7525-46a7-a4ac-d6a8f8bbb0d5"
      },
      "execution_count": null,
      "outputs": [
        {
          "output_type": "stream",
          "name": "stdout",
          "text": [
            "[1 2 3 4 5 6]\n"
          ]
        }
      ]
    },
    {
      "cell_type": "code",
      "source": [
        "print(s1arr[1::])"
      ],
      "metadata": {
        "colab": {
          "base_uri": "https://localhost:8080/"
        },
        "id": "GeHCG_lK71eO",
        "outputId": "94f76434-72ff-40ed-d44d-4b083a224a0c"
      },
      "execution_count": null,
      "outputs": [
        {
          "output_type": "stream",
          "name": "stdout",
          "text": [
            "[2 3 4 5 6 7 8 9]\n"
          ]
        }
      ]
    },
    {
      "cell_type": "code",
      "source": [
        "print(s1arr[::3])"
      ],
      "metadata": {
        "colab": {
          "base_uri": "https://localhost:8080/"
        },
        "id": "tlGUGOr375sd",
        "outputId": "a3f57c3f-c95a-45a3-fb3a-6386ac22e75b"
      },
      "execution_count": null,
      "outputs": [
        {
          "output_type": "stream",
          "name": "stdout",
          "text": [
            "[1 4 7]\n"
          ]
        }
      ]
    },
    {
      "cell_type": "code",
      "source": [
        "print(s1arr)           # print all the elements\n",
        "print(s1arr[-3:])      # print with negative start slicing\n",
        "print(s1arr[-5:-2])    # print with negative slicing\n",
        "print(s1arr[-1::-2])   # print from reverse with step\n",
        "print(s1arr[::-1])     # reverse array"
      ],
      "metadata": {
        "colab": {
          "base_uri": "https://localhost:8080/"
        },
        "id": "0ddDFgjO8-nV",
        "outputId": "ae4e6125-0142-4972-ca3b-5235040b4d67"
      },
      "execution_count": null,
      "outputs": [
        {
          "output_type": "stream",
          "name": "stdout",
          "text": [
            "[1 2 3 4 5 6 7 8 9]\n",
            "[7 8 9]\n",
            "[5 6 7]\n",
            "[9 7 5 3 1]\n",
            "[9 8 7 6 5 4 3 2 1]\n"
          ]
        }
      ]
    },
    {
      "cell_type": "markdown",
      "source": [
        "## 2D array\n",
        "array[row_start : row_end , col_start : col_end ]\n",
        "\n",
        "end is optional"
      ],
      "metadata": {
        "id": "WuslNQ1M8Zn9"
      }
    },
    {
      "cell_type": "code",
      "source": [
        "s2arr = np.array([[1,2,3,4],[5,6,7,8],[0,2,4,6],[1,3,5,7]])\n",
        "print(s2arr)"
      ],
      "metadata": {
        "colab": {
          "base_uri": "https://localhost:8080/"
        },
        "id": "01tBle-b79K9",
        "outputId": "d4b24061-107e-4a8e-932c-92445da4fe24"
      },
      "execution_count": null,
      "outputs": [
        {
          "output_type": "stream",
          "name": "stdout",
          "text": [
            "[[1 2 3 4]\n",
            " [5 6 7 8]\n",
            " [0 2 4 6]\n",
            " [1 3 5 7]]\n"
          ]
        }
      ]
    },
    {
      "cell_type": "code",
      "source": [
        "print(s2arr[1:,])"
      ],
      "metadata": {
        "colab": {
          "base_uri": "https://localhost:8080/"
        },
        "id": "pPGAgszlAPCW",
        "outputId": "2d842752-d88c-4e28-be1b-143b3aa2e0ba"
      },
      "execution_count": null,
      "outputs": [
        {
          "output_type": "stream",
          "name": "stdout",
          "text": [
            "[[5 6 7 8]\n",
            " [0 2 4 6]\n",
            " [1 3 5 7]]\n"
          ]
        }
      ]
    },
    {
      "cell_type": "code",
      "source": [
        "print(s2arr[:,2:])"
      ],
      "metadata": {
        "colab": {
          "base_uri": "https://localhost:8080/"
        },
        "id": "sn7CweNVAcFI",
        "outputId": "6806005d-e162-4bdd-a831-3275c03243cd"
      },
      "execution_count": null,
      "outputs": [
        {
          "output_type": "stream",
          "name": "stdout",
          "text": [
            "[[3 4]\n",
            " [7 8]\n",
            " [4 6]\n",
            " [5 7]]\n"
          ]
        }
      ]
    },
    {
      "cell_type": "code",
      "source": [
        "print(s2arr[:,2:3])"
      ],
      "metadata": {
        "colab": {
          "base_uri": "https://localhost:8080/"
        },
        "id": "ITOsrjY7Arb4",
        "outputId": "f195e087-a8dd-4197-eced-05a9f437660d"
      },
      "execution_count": null,
      "outputs": [
        {
          "output_type": "stream",
          "name": "stdout",
          "text": [
            "[[3]\n",
            " [7]\n",
            " [4]\n",
            " [5]]\n"
          ]
        }
      ]
    },
    {
      "cell_type": "markdown",
      "source": [
        "## 3D array\n",
        "array[slice_start : slice_end , row_start : row_end , col_start : col_end ]\n",
        "\n",
        "end  optional"
      ],
      "metadata": {
        "id": "vKvue24SCbtV"
      }
    },
    {
      "cell_type": "code",
      "source": [
        "s3arr = np.array([[[1,2,3,4,5],[6,7,8,9,10]],[[11,12,13,14,15],[16,17,18,19,20]]])\n",
        "print(s3arr)"
      ],
      "metadata": {
        "colab": {
          "base_uri": "https://localhost:8080/"
        },
        "id": "zj7Ol4CqC40V",
        "outputId": "2587e45e-4b24-4c94-afad-1a391cb5c446"
      },
      "execution_count": null,
      "outputs": [
        {
          "output_type": "stream",
          "name": "stdout",
          "text": [
            "[[[ 1  2  3  4  5]\n",
            "  [ 6  7  8  9 10]]\n",
            "\n",
            " [[11 12 13 14 15]\n",
            "  [16 17 18 19 20]]]\n"
          ]
        }
      ]
    },
    {
      "cell_type": "code",
      "source": [
        "print(s3arr[0, 1, 1:4])"
      ],
      "metadata": {
        "colab": {
          "base_uri": "https://localhost:8080/"
        },
        "id": "k2Qz2DWaDKch",
        "outputId": "4b4aef47-c72d-40dc-b6d6-9e5e6e179a33"
      },
      "execution_count": null,
      "outputs": [
        {
          "output_type": "stream",
          "name": "stdout",
          "text": [
            "[7 8 9]\n"
          ]
        }
      ]
    },
    {
      "cell_type": "markdown",
      "source": [
        "# NumPy Array Reshaping\n",
        "changing the shape of an array without changing its data\n",
        "\n",
        "1D array\n",
        "```\n",
        "[1,2,3,4,5,6,7,8]\n",
        "```\n",
        "\n",
        "2D array\n",
        "```\n",
        "[1,2,3,4]\n",
        "[5,6,7,8]\n",
        "```\n",
        "\n",
        "3D array\n",
        "```\n",
        "[\n",
        "  [\n",
        "  [1 2]\n",
        "  [3 4]\n",
        "  ]\n",
        "\n",
        " [\n",
        "  [5 6]\n",
        "  [7 8]\n",
        "  ]\n",
        "]\n",
        "```\n"
      ],
      "metadata": {
        "id": "6t3R9stnHMCb"
      }
    },
    {
      "cell_type": "markdown",
      "source": [
        "## np.reshape(array, newshape)"
      ],
      "metadata": {
        "id": "m_qZdPf6ReDy"
      }
    },
    {
      "cell_type": "code",
      "source": [
        "# 1D array\n",
        "rearr = np.arange(8)\n",
        "print(rearr)"
      ],
      "metadata": {
        "colab": {
          "base_uri": "https://localhost:8080/"
        },
        "id": "nzBONvLtJ0oL",
        "outputId": "c1ba0478-b28d-4853-e123-bf841aaf46a5"
      },
      "execution_count": null,
      "outputs": [
        {
          "output_type": "stream",
          "name": "stdout",
          "text": [
            "[0 1 2 3 4 5 6 7]\n"
          ]
        }
      ]
    },
    {
      "cell_type": "code",
      "source": [
        "# 2D array with shape 2 x 4\n",
        "rarr = np.arange(8)\n",
        "re2arr = np.reshape(rarr,(2,4))\n",
        "print(re2arr)"
      ],
      "metadata": {
        "colab": {
          "base_uri": "https://localhost:8080/"
        },
        "id": "4d0OsMRfTKiu",
        "outputId": "d74f03e6-43bb-4249-c696-30e82bf496da"
      },
      "execution_count": null,
      "outputs": [
        {
          "output_type": "stream",
          "name": "stdout",
          "text": [
            "[[0 1 2 3]\n",
            " [4 5 6 7]]\n"
          ]
        }
      ]
    },
    {
      "cell_type": "code",
      "source": [
        "# 2D array with shape 4 x 2\n",
        "r2arr = np.arange(8).reshape((4,2))\n",
        "print(r2arr)"
      ],
      "metadata": {
        "colab": {
          "base_uri": "https://localhost:8080/"
        },
        "id": "JgL5to3zTdFT",
        "outputId": "8e273beb-2a77-496d-c44d-644d6f6feaf2"
      },
      "execution_count": null,
      "outputs": [
        {
          "output_type": "stream",
          "name": "stdout",
          "text": [
            "[[0 1]\n",
            " [2 3]\n",
            " [4 5]\n",
            " [6 7]]\n"
          ]
        }
      ]
    },
    {
      "cell_type": "code",
      "source": [
        "# 3D array\n",
        "re3arr = np.arange(8).reshape(2,2,2)\n",
        "print(re3arr)"
      ],
      "metadata": {
        "colab": {
          "base_uri": "https://localhost:8080/"
        },
        "id": "5nI5ZeO7T7so",
        "outputId": "87b4df9a-9ba5-4f31-8d3a-1c5c800ee420"
      },
      "execution_count": null,
      "outputs": [
        {
          "output_type": "stream",
          "name": "stdout",
          "text": [
            "[[[0 1]\n",
            "  [2 3]]\n",
            "\n",
            " [[4 5]\n",
            "  [6 7]]]\n"
          ]
        }
      ]
    },
    {
      "cell_type": "markdown",
      "source": [
        "## Flatten N-d Array to 1-D Array Using reshape()\n",
        "converting a multidimensional array into a 1D array\n",
        "\n",
        "pass \"-1\" as an argument to reshape()\n"
      ],
      "metadata": {
        "id": "RnFul_M0U0ik"
      }
    },
    {
      "cell_type": "code",
      "source": [
        "# flatten 2D array to 1D\n",
        "f2arr = np.array([[1, 3], [5, 7], [9, 11]])\n",
        "f2 = np.reshape(f2arr, -1)\n",
        "print(\"2D array :\\n\", f2arr)\n",
        "print(\"\\nFlattened 2D array:\", f2)\n",
        "\n",
        "# flatten 3D array to 1D\n",
        "f3arr = np.array([[[1, 3], [5, 7]], [[2, 4], [6, 8]]])\n",
        "f3 = np.reshape(f3arr, -1)\n",
        "print(\"\\n3D array : \\n\", f3arr)\n",
        "print(\"\\nFlattened 3D array:\", f3)"
      ],
      "metadata": {
        "colab": {
          "base_uri": "https://localhost:8080/"
        },
        "id": "d-WvxtjEVakX",
        "outputId": "a9b7e616-edb3-4648-e19f-78fb6d06dfb5"
      },
      "execution_count": null,
      "outputs": [
        {
          "output_type": "stream",
          "name": "stdout",
          "text": [
            "2D array :\n",
            " [[ 1  3]\n",
            " [ 5  7]\n",
            " [ 9 11]]\n",
            "\n",
            "Flattened 2D array: [ 1  3  5  7  9 11]\n",
            "\n",
            "3D array : \n",
            " [[[1 3]\n",
            "  [5 7]]\n",
            "\n",
            " [[2 4]\n",
            "  [6 8]]]\n",
            "\n",
            "Flattened 3D array: [1 3 5 7 2 4 6 8]\n"
          ]
        }
      ]
    },
    {
      "cell_type": "markdown",
      "source": [
        "# NumPy Array – Iterate over elements (nditer)\n",
        " visit each of the element in the numpy array"
      ],
      "metadata": {
        "id": "H6UHIk2EITdc"
      }
    },
    {
      "cell_type": "code",
      "source": [
        "iarr = np.arange(9).reshape(3,3)\n",
        "\n",
        "# Print array\n",
        "print(\"The array\\n\",iarr)"
      ],
      "metadata": {
        "colab": {
          "base_uri": "https://localhost:8080/"
        },
        "id": "j3R84D6ODSFz",
        "outputId": "5bb3ff75-0707-42bf-8b71-a6472f8f5a51"
      },
      "execution_count": null,
      "outputs": [
        {
          "output_type": "stream",
          "name": "stdout",
          "text": [
            "The array\n",
            " [[0 1 2]\n",
            " [3 4 5]\n",
            " [6 7 8]]\n"
          ]
        }
      ]
    },
    {
      "cell_type": "code",
      "source": [
        "print(\"\\nIterating over the array\")\n",
        "\n",
        "for x in iarr:\n",
        "\tprint(x,end=' ')\n",
        "\n",
        "print(\"\\n\\nIterating over all the elemnets of array\")\n",
        "\n",
        "for x in np.nditer(iarr):\n",
        "\tprint(x,end=' ')\n"
      ],
      "metadata": {
        "colab": {
          "base_uri": "https://localhost:8080/"
        },
        "id": "_4DriIbtIASO",
        "outputId": "80cccbd7-f619-4da6-e505-64684ec9edb0"
      },
      "execution_count": null,
      "outputs": [
        {
          "output_type": "stream",
          "name": "stdout",
          "text": [
            "\n",
            "Iterating over the array\n",
            "[0 1 2] [3 4 5] [6 7 8] \n",
            "\n",
            "Iterating over all the elemnets of array\n",
            "0 1 2 3 4 5 6 7 8 "
          ]
        }
      ]
    },
    {
      "cell_type": "markdown",
      "source": [
        "# NumPy Array Functions\n",
        "built-in functions provided by NumPy that allow us to create and manipulate arrays, and perform different operations on them"
      ],
      "metadata": {
        "id": "BFwdhNGFWYf3"
      }
    },
    {
      "cell_type": "markdown",
      "source": [
        "\n",
        "Array Creation Functions  -\tnp.array(), np.zeros(), np.ones(), np.empty(), etc.\n",
        "\n",
        "Array Manipulation Functions\t- np.reshape(), np.transpose(), etc.\n",
        "\n",
        "Array Mathematical Functions\t- np.add(), np.subtract(), np.sqrt(), np.power(), etc.\n",
        "\n",
        "Array Statistical Functions\t- np.median(), np.mean(), np.std(), and np.var().\n",
        "\n",
        "Array Comparison Functions - np.less(), np.less_equal(), greater(), etc\n",
        "\n",
        "Array Logical Functions    - np.logical_and(), np.logical_or(), np.logical_not\n",
        "\n",
        "Array Input and Output Functions\t- np.save(), np.load(), np.loadtxt(), etc.\n"
      ],
      "metadata": {
        "id": "9pwoEoglWeW-"
      }
    },
    {
      "cell_type": "code",
      "source": [
        "# manipulation function\n",
        "# np.transpose(source_array)\n",
        "\n",
        "tarr = np.array([0,2,4,6,8,1,3,5,7,9]).reshape(2,5)\n",
        "print(tarr)"
      ],
      "metadata": {
        "colab": {
          "base_uri": "https://localhost:8080/"
        },
        "id": "KfkXy43gf5uh",
        "outputId": "434631d7-80b2-49a9-ae77-8fe4f46b27b0"
      },
      "execution_count": 71,
      "outputs": [
        {
          "output_type": "stream",
          "name": "stdout",
          "text": [
            "[[0 2 4 6 8]\n",
            " [1 3 5 7 9]]\n"
          ]
        }
      ]
    },
    {
      "cell_type": "code",
      "source": [
        "ntarr = np.transpose(tarr)\n",
        "print(ntarr)"
      ],
      "metadata": {
        "colab": {
          "base_uri": "https://localhost:8080/"
        },
        "id": "fGPITD-kgQSY",
        "outputId": "e8b86b65-1bdc-4341-a2f4-85b83a4c29b4"
      },
      "execution_count": 72,
      "outputs": [
        {
          "output_type": "stream",
          "name": "stdout",
          "text": [
            "[[0 1]\n",
            " [2 3]\n",
            " [4 5]\n",
            " [6 7]\n",
            " [8 9]]\n"
          ]
        }
      ]
    },
    {
      "cell_type": "code",
      "source": [
        "# mathematical function add(),subtract(), multiply(), divide(), power(), sqrt()\n",
        "\n",
        "a = np.array([1, 2, 3, 4, 5])\n",
        "b = np.array([4, 9, 16, 25, 36])\n",
        "\n",
        "# add the two arrays element-wise\n",
        "arr_sum = np.add(a, b)\n",
        "\n",
        "# subtract b from a element-wise\n",
        "arr_diff = np.subtract(a, b)\n",
        "\n",
        "# multiply a and b element-wise\n",
        "arr_mult = np.multiply(a, b)\n",
        "\n",
        "# divide a by b element-wise\n",
        "arr_divi = np.divide(a, b)\n",
        "\n",
        "# power of a element-wise\n",
        "arr_pow = np.power(a,3)\n",
        "\n",
        "# square root of b element-wise\n",
        "arr_sqrt = np.sqrt(b)\n",
        "\n",
        "print(\"\\nArray a          :\", a)\n",
        "print(\"\\nArray b          :\", b)\n",
        "print(\"\\nAddition         :\", arr_sum)\n",
        "print(\"\\nSubtraction      :\", arr_diff)\n",
        "print(\"\\nMultiplication   :\", arr_mult)\n",
        "print(\"\\nDivision         :\", arr_divi)\n",
        "print(\"\\nPower of a       :\", arr_pow)\n",
        "print(\"\\nSquare root of b :\", arr_sqrt)\n"
      ],
      "metadata": {
        "colab": {
          "base_uri": "https://localhost:8080/"
        },
        "id": "mtpVaMNdg2TA",
        "outputId": "fff79404-6d5f-4446-c67c-8950066f8d7b"
      },
      "execution_count": 76,
      "outputs": [
        {
          "output_type": "stream",
          "name": "stdout",
          "text": [
            "\n",
            "Array a          : [1 2 3 4 5]\n",
            "\n",
            "Array b          : [ 4  9 16 25 36]\n",
            "\n",
            "Addition         : [ 5 11 19 29 41]\n",
            "\n",
            "Subtraction      : [ -3  -7 -13 -21 -31]\n",
            "\n",
            "Multiplication   : [  4  18  48 100 180]\n",
            "\n",
            "Division         : [0.25       0.22222222 0.1875     0.16       0.13888889]\n",
            "\n",
            "Power of a       : [  1   8  27  64 125]\n",
            "\n",
            "Square root of b : [2. 3. 4. 5. 6.]\n"
          ]
        }
      ]
    },
    {
      "cell_type": "code",
      "source": [
        "# Statistical Functions mean() , median(), std(), percentile(), min(), max()\n",
        "\n",
        "\n",
        "marks = np.array([76, 78, 81, 66, 85])\n",
        "\n",
        "# compute the mean of marks\n",
        "mean_marks = np.mean(marks)\n",
        "print(\"Mean:\",mean_marks)\n",
        "\n",
        "# compute the median of marks\n",
        "median_marks = np.median(marks)\n",
        "print(\"Median:\",median_marks)\n",
        "\n",
        "# compute the standard deviation of marks\n",
        "std_marks = np.std(marks)\n",
        "print(\"Standard Deviation:\",std_marks)\n",
        "\n",
        "# compute the percentile of marks\n",
        "percen_marks1 = np.percentile(marks,25)\n",
        "print(\"25th percentile:\",percen_marks1)\n",
        "percen_marks2 = np.percentile(marks,75)\n",
        "print(\"75th percentile:\",percen_marks2)\n",
        "\n",
        "# find the minimum and maximum marks\n",
        "min_marks = np.min(marks)\n",
        "print(\"Minimum marks:\", min_marks)\n",
        "\n",
        "max_marks = np.max(marks)\n",
        "print(\"Maximum marks:\", max_marks)"
      ],
      "metadata": {
        "colab": {
          "base_uri": "https://localhost:8080/"
        },
        "id": "hB482n7GkhTD",
        "outputId": "4ddaf4ce-64ed-4f5a-9a64-e03af49ebe73"
      },
      "execution_count": 77,
      "outputs": [
        {
          "output_type": "stream",
          "name": "stdout",
          "text": [
            "Mean: 77.2\n",
            "Median: 78.0\n",
            "Standard Deviation: 6.368673331236263\n",
            "25th percentile: 76.0\n",
            "75th percentile: 81.0\n",
            "Minimum marks: 66\n",
            "Maximum marks: 85\n"
          ]
        }
      ]
    },
    {
      "cell_type": "code",
      "source": [
        "# Array Comparison Functions - np.less(), np.less_equal(), greater(), greater_equal(), equal(), not_equal()\n",
        "\n",
        "f = np.array([9, 12, 21])\n",
        "s = np.array([21, 12, 9])\n",
        "\n",
        "print(\"First Array          :\",f)\n",
        "print(\"Second Array         :\",s)\n",
        "\n",
        "# use of less()\n",
        "l = np.less(f, s)\n",
        "print(\"Using less()         :\",l)\n",
        "\n",
        "# use of less_equal()\n",
        "le = np.less_equal(f, s)\n",
        "print(\"Using less_equal()   :\",le)     # Output: [ True  True False]\n",
        "\n",
        "# use of greater()\n",
        "g = np.greater(f, s)\n",
        "print(\"Using greater()      :\",g)    # Output: [False False  True]\n",
        "\n",
        "# use of greater_equal()\n",
        "ge = np.greater_equal(f, s)\n",
        "print(\"Using greater_equal():\",ge)    # Output: [False  True  True]\n",
        "\n",
        "# use of equal()\n",
        "e = np.equal(f, s)\n",
        "print(\"Using equal()        :\",e)    # Output: [False  True False]\n",
        "\n",
        "# use of not_equal()\n",
        "ne = np.not_equal(f, s)\n",
        "print(\"Using not_equal()    :\",ne)    # Output: [ True False  True]"
      ],
      "metadata": {
        "colab": {
          "base_uri": "https://localhost:8080/"
        },
        "id": "zFy4aE0rmr7-",
        "outputId": "0db41740-8728-4bd1-f29f-e90060bb1390"
      },
      "execution_count": 80,
      "outputs": [
        {
          "output_type": "stream",
          "name": "stdout",
          "text": [
            "First Array          : [ 9 12 21]\n",
            "Second Array         : [21 12  9]\n",
            "Using less()         : [ True False False]\n",
            "Using less_equal()   : [ True  True False]\n",
            "Using greater()      : [False False  True]\n",
            "Using greater_equal(): [False  True  True]\n",
            "Using equal()        : [False  True False]\n",
            "Using not_equal()    : [ True False  True]\n"
          ]
        }
      ]
    },
    {
      "cell_type": "code",
      "source": [
        "# Array Logical Functions - np.logical_and(), np.logical_or(), np.logical_not\n",
        "\n",
        "x = np.array([True, False, True])\n",
        "y = np.array([False, False, True])\n",
        "\n",
        "print(\"First Array       :\",x)\n",
        "print(\"Second Array      :\",y)\n",
        "\n",
        "# Logical AND\n",
        "print(\"Logical AND       :\",np.logical_and(x, y)) # Output: [False False  True]\n",
        "\n",
        "# Logical OR\n",
        "print(\"Logical OR        :\",np.logical_or(x, y)) # Output: [ True False  True]\n",
        "\n",
        "# Logical NOT\n",
        "print(\"Logical NOT       :\",np.logical_not(x)) # Output: [False  True False]"
      ],
      "metadata": {
        "colab": {
          "base_uri": "https://localhost:8080/"
        },
        "id": "ppf-jHNuo23d",
        "outputId": "312d0ab9-38db-4e55-da50-337d667ba98c"
      },
      "execution_count": 82,
      "outputs": [
        {
          "output_type": "stream",
          "name": "stdout",
          "text": [
            "First Array       : [ True False  True]\n",
            "Second Array      : [False False  True]\n",
            "Logical AND       : [False False  True]\n",
            "Logical OR        : [ True False  True]\n",
            "Logical NOT       : [False  True False]\n"
          ]
        }
      ]
    },
    {
      "cell_type": "code",
      "source": [
        "# Array Input/Output Functions savetxt() , loadtxt()\n",
        "\n",
        "# create an array\n",
        "arr = np.array([[1, 3, 5], [2, 4, 6]])\n",
        "\n",
        "# save the array to a text file\n",
        "np.savetxt('data1.txt', arr)\n",
        "\n",
        "# load the data from the text file\n",
        "loaded_data = np.loadtxt('data1.txt')\n",
        "\n",
        "# print the loaded data\n",
        "print(loaded_data)"
      ],
      "metadata": {
        "colab": {
          "base_uri": "https://localhost:8080/"
        },
        "id": "7rWlsZIwphmH",
        "outputId": "980f9dce-cf8d-41d6-895c-776d8e205dc6"
      },
      "execution_count": 84,
      "outputs": [
        {
          "output_type": "stream",
          "name": "stdout",
          "text": [
            "[[1. 3. 5.]\n",
            " [2. 4. 6.]]\n"
          ]
        }
      ]
    },
    {
      "cell_type": "markdown",
      "source": [
        "#Ms.K.Kiruthika\n",
        "#Technical Trainer\n",
        "#T & P Cell\n",
        "#K.S.Rangasamy College of Technology\n",
        "\n",
        "\n",
        "\n",
        "\n",
        "\n",
        "\n",
        "\n"
      ],
      "metadata": {
        "id": "6hJoXaBOqP3o"
      }
    }
  ]
}